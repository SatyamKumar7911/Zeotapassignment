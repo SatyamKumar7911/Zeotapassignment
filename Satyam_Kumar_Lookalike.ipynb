
import pandas as pd
import numpy as np
from sklearn.preprocessing import StandardScaler
from sklearn.metrics.pairwise import cosine_similarity


customers_df = pd.read_csv("customers.csv")
products_df = pd.read_csv("products.csv")
transactions_df = pd.read_csv("transactions.csv")

# Preprocess the data
customers_df['SignupDate'] = pd.to_datetime(customers_df['SignupDate'])
transactions_df['TransactionDate'] = pd.to_datetime(transactions_df['TransactionDate'])

# Create customer features
customer_features = customers_df.copy()
customer_features['DaysSinceSignup'] = (pd.Timestamp.now() - customer_features['SignupDate']).dt.days

# Create transaction features
transaction_features = transactions_df.groupby('CustomerID').agg({
    'TransactionID': 'count',
    'Quantity': 'sum',
    'TotalValue': 'sum',
    'Price': 'mean'
}).reset_index()

transaction_features.columns = ['CustomerID', 'TransactionCount', 'TotalQuantity', 'TotalSpent', 'AveragePrice']

# Merge customer and transaction features
customer_profiles = customer_features.merge(transaction_features, on='CustomerID', how='left')

# Fill NaN values for customers with no transactions
customer_profiles.fillna(0, inplace=True)

# Encode categorical variables
customer_profiles = pd.get_dummies(customer_profiles, columns=['Region'])

# Select features for similarity calculation
similarity_features = ['DaysSinceSignup', 'TransactionCount', 'TotalQuantity', 'TotalSpent', 'AveragePrice',
                       'Region_Asia', 'Region_Europe', 'Region_North America', 'Region_South America']

# Normalize the features
scaler = StandardScaler()
normalized_features = scaler.fit_transform(customer_profiles[similarity_features])

# Calculate cosine similarity
similarity_matrix = cosine_similarity(normalized_features)

def get_lookalikes(customer_id, n=3):
    customer_index = customer_profiles[customer_profiles['CustomerID'] == customer_id].index[0]
    similarities = similarity_matrix[customer_index]
    similar_indices = similarities.argsort()[::-1][1:n+1]  # Exclude the customer itself
    similar_customers = customer_profiles.iloc[similar_indices]
    similar_scores = similarities[similar_indices]
    return list(zip(similar_customers['CustomerID'], similar_scores))

# Get lookalikes for the first 20 customers
lookalike_results = {}
for customer_id in customers_df['CustomerID'][:20]:
    lookalikes = get_lookalikes(customer_id)
    lookalike_results[customer_id] = lookalikes

# Create Lookalike.csv
lookalike_df = pd.DataFrame([(k, v) for k, v in lookalike_results.items()], columns=['CustomerID', 'Lookalikes'])
lookalike_df.to_csv('FirstName_LastName_Lookalike.csv', index=False)

print("Lookalike model results saved to FirstName_LastName_Lookalike.csv")
