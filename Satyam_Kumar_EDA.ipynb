
import pandas as pd
import matplotlib.pyplot as plt
import seaborn as sns
from datetime import datetime
import numpy as np

customers_df = pd.read_csv("customers.csv")
products_df = pd.read_csv("products.csv")
transactions_df = pd.read_csv("transactions.csv")

# Display basic information about the datasets
print("Customers Dataset:")
print(customers_df.info())
print("\nProducts Dataset:")
print(products_df.info())
print("\nTransactions Dataset:")
print(transactions_df.info())

# Check for missing values
print("\nMissing Values:")
print(customers_df.isnull().sum())
print(products_df.isnull().sum())
print(transactions_df.isnull().sum())

# Convert date columns to datetime
customers_df['SignupDate'] = pd.to_datetime(customers_df['SignupDate'])
transactions_df['TransactionDate'] = pd.to_datetime(transactions_df['TransactionDate'])

# Analyze customer distribution by region
plt.figure(figsize=(10, 6))
customers_df['Region'].value_counts().plot(kind='bar')
plt.title('Customer Distribution by Region')
plt.xlabel('Region')
plt.ylabel('Number of Customers')
plt.show()

# Analyze product distribution by category
plt.figure(figsize=(10, 6))
products_df['Category'].value_counts().plot(kind='bar')
plt.title('Product Distribution by Category')
plt.xlabel('Category')
plt.ylabel('Number of Products')
plt.show()

# Analyze transaction trends over time
transactions_df['Month'] = transactions_df['TransactionDate'].dt.to_period('M')
monthly_sales = transactions_df.groupby('Month')['TotalValue'].sum().reset_index()
monthly_sales['Month'] = monthly_sales['Month'].astype(str)

plt.figure(figsize=(12, 6))
plt.plot(monthly_sales['Month'], monthly_sales['TotalValue'])
plt.title('Monthly Sales Trend')
plt.xlabel('Month')
plt.ylabel('Total Sales')
plt.xticks(rotation=45)
plt.show()

# Analyze customer purchase frequency
customer_purchase_freq = transactions_df['CustomerID'].value_counts()
plt.figure(figsize=(10, 6))
sns.histplot(customer_purchase_freq, bins=30)
plt.title('Customer Purchase Frequency Distribution')
plt.xlabel('Number of Purchases')
plt.ylabel('Number of Customers')
plt.show()

# Analyze product popularity
product_popularity = transactions_df['ProductID'].value_counts().head(10)
plt.figure(figsize=(10, 6))
product_popularity.plot(kind='bar')
plt.title('Top 10 Most Popular Products')
plt.xlabel('Product ID')
plt.ylabel('Number of Transactions')
plt.show()

# Calculate customer lifetime value (CLV)
customer_total_value = transactions_df.groupby('CustomerID')['TotalValue'].sum().reset_index()
customer_total_value = customer_total_value.merge(customers_df[['CustomerID', 'SignupDate']], on='CustomerID')
customer_total_value['Days_Since_Signup'] = (datetime.now() - customer_total_value['SignupDate']).dt.days
customer_total_value['CLV'] = customer_total_value['TotalValue'] / (customer_total_value['Days_Since_Signup'] / 365)

plt.figure(figsize=(10, 6))
sns.histplot(customer_total_value['CLV'], bins=30)
plt.title('Customer Lifetime Value Distribution')
plt.xlabel('CLV')
plt.ylabel('Number of Customers')
plt.show()

# Analyze the relationship between product price and sales volume
product_sales = transactions_df.groupby('ProductID').agg({'Quantity': 'sum', 'Price': 'mean'}).reset_index()
plt.figure(figsize=(10, 6))
plt.scatter(product_sales['Price'], product_sales['Quantity'])
plt.title('Relationship between Product Price and Sales Volume')
plt.xlabel('Price')
plt.ylabel('Total Quantity Sold')
plt.show()
